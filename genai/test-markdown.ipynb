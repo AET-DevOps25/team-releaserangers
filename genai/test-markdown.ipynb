{
 "cells": [
  {
   "cell_type": "markdown",
   "id": "4f8e2321",
   "metadata": {},
   "source": [
    "## Notebook to quickly have a look at generated output"
   ]
  },
  {
   "cell_type": "code",
   "execution_count": 1,
   "id": "e44f6d36",
   "metadata": {
    "jupyter": {
     "is_executing": true
    }
   },
   "outputs": [],
   "source": [
    "import html"
   ]
  },
  {
   "cell_type": "code",
   "execution_count": null,
   "id": "208b7be3",
   "metadata": {},
   "outputs": [],
   "source": [
    "# Replace this with generated output\n",
    "api_resp = {\n",
    "  \"chapter_title\": \"DevOps: Virtualization and Containerization\",\n",
    "  \"summary_markdown\": \"# DevOps: Virtualization and Containerization\\n## Introduction to DevOps\\n- Basic understanding of DevOps\\n- Culture behind it\\n- Agile software engineering\\n- Continuous integration and continuous delivery\\n\\n## Learning Goals\\n- Build a Docker image\\n- Run a Docker container\\n- Explain container management advantages\\n- Set up a Docker Compose file with networks and volumes\\n- Deploy a client-server application into a local Kubernetes cluster\\n\\n## Virtual Machines and Containers\\n- Container management\\n- Container orchestration\\n\\n## Traditional to Container Deployment\\n### Traditional Deployment\\n- High maintenance costs\\n- No isolation between apps\\n- Improved isolation + virtualization\\n- Heavyweight and slow\\n\\n### Virtualized Deployment\\n\\n### Container Deployment\\n- Complete isolation\\n- Lightweight and fast\\n\\n## What is a Container?\\n- Another process on the machine isolated from all other processes on the host machine\\n- Lightweight, portable, and self-sufficient software package\\n- Includes everything needed to run the software: code, runtime, tools, libraries, and settings\\n\\n## Container Process\\n### Describe\\n- Application\\n\\n### Build\\n- Image description\\n- Infrastructure as code: environment + application\\n\\n### Run\\n- Container\\n\\n## Benefits of Containers\\n- Environment consistency\\n- Faster CI/CD\\n- Portability\\n- Simplified deployment\\n- Microservices and scalability\\n- Easy rollbacks and versioning\\n- Dependency management\\n- Security and isolation\\n\\n## Docker\\n- Open platform for developing, shipping, and running apps\\n- Separates applications from infrastructure for faster software delivery\\n\\n### Docker Platform\\n- Packages and runs applications in isolated containers\\n- Lightweight containers run many instances on a host securely\\n- Containers include all dependencies, ensuring consistency across environments\\n\\n### Tooling and Lifecycle Management\\n- Develop, test, and distribute applications as containers\\n- Deploy applications in any environment: local, cloud, or hybrid\\n\\n## Dockerfile Example\\n```dockerfile\\nFROM openjdk:17-jdk-slim-buster\\nWORKDIR /app\\nCOPY app/build/lib/* build/lib/\\nCOPY app/build/libs/app.jar build/\\nWORKDIR /app/build\\nENTRYPOINT [ \\\"java\\\", \\\"-jar\\\", \\\"app.jar\\\" ]\\n```\\n\\n## Terminal Commands\\n- Build the image: `docker build -t jre-build-example .`\\n- Run a container from the image: `docker run -p 8080:8080 jre-build-example`\\n\\n## Problems with Normal Dockerfiles\\n- Final images often contain build tools, source files, and intermediate artifacts\\n- Large image size\\n- Security risks\\n- Not production-ready\\n\\n## Benefits of Multi-Stage Builds\\n- Smaller images\\n- Improved security\\n- Faster deployments\\n- Cleaner and more maintainable\\n\\n## Multi-Stage Dockerfiles: Example\\n```dockerfile\\n# Stage 1: Build the application\\nFROM gradle:8.14-jdk21 AS build\\nWORKDIR /app\\nCOPY build.gradle settings.gradle ./\\nCOPY gradle ./gradle\\nCOPY src ./src\\nRUN gradle bootJar --no-daemon\\n# Stage 2: Run the application\\nFROM gcr.io/distroless/java21-debian12\\nWORKDIR /app\\nCOPY --from=build /app/build/libs/*.jar app.jar\\nEXPOSE 8080\\nENTRYPOINT [\\\"java\\\", \\\"-jar\\\", \\\"app.jar\\\"]\\n```\\n\\n## Helpful Docker Commands\\n- `docker pull <image>`: downloads an image from a Docker registry\\n- `docker build -t <name> <path>`: builds an image from a Dockerfile\\n- `docker run <image>`: runs a container from an image\\n- `docker ps`: lists all running containers\\n- `docker stop <container>`: stops a running container\\n- `docker rm <container>`: removes a container\\n- `docker rmi <image>`: removes an image\\n- `docker logs <container>`: shows the logs of a container\\n- `docker exec -it <container> <command>`: runs a command inside a running container\",\n",
    "  \"emoji\": \"📚\",\n",
    "  \"source_file\": \"L04 Virtualization and Containerization.pdf\"\n",
    "}"
   ]
  },
  {
   "cell_type": "code",
   "execution_count": 12,
   "id": "131d808a",
   "metadata": {},
   "outputs": [],
   "source": [
    "markdown_raw = api_resp[\"summary_markdown\"]\n",
    "markdown_decoded = markdown_raw.replace(\"\\\\n\", \"\\n\")\n",
    "markdown_decoded = html.unescape(markdown_decoded)"
   ]
  },
  {
   "cell_type": "code",
   "execution_count": 13,
   "id": "b38d5f2f",
   "metadata": {},
   "outputs": [],
   "source": [
    "from IPython.display import Markdown, display"
   ]
  },
  {
   "cell_type": "code",
   "execution_count": 14,
   "id": "9f2d0ebf",
   "metadata": {},
   "outputs": [
    {
     "data": {
      "text/markdown": [
       "# DevOps: Virtualization and Containerization\n",
       "## Introduction to DevOps\n",
       "- Basic understanding of DevOps\n",
       "- Culture behind it\n",
       "- Agile software engineering\n",
       "- Continuous integration and continuous delivery\n",
       "\n",
       "## Learning Goals\n",
       "- Build a Docker image\n",
       "- Run a Docker container\n",
       "- Explain container management advantages\n",
       "- Set up a Docker Compose file with networks and volumes\n",
       "- Deploy a client-server application into a local Kubernetes cluster\n",
       "\n",
       "## Virtual Machines and Containers\n",
       "- Container management\n",
       "- Container orchestration\n",
       "\n",
       "## Traditional to Container Deployment\n",
       "### Traditional Deployment\n",
       "- High maintenance costs\n",
       "- No isolation between apps\n",
       "- Improved isolation + virtualization\n",
       "- Heavyweight and slow\n",
       "\n",
       "### Virtualized Deployment\n",
       "\n",
       "### Container Deployment\n",
       "- Complete isolation\n",
       "- Lightweight and fast\n",
       "\n",
       "## What is a Container?\n",
       "- Another process on the machine isolated from all other processes on the host machine\n",
       "- Lightweight, portable, and self-sufficient software package\n",
       "- Includes everything needed to run the software: code, runtime, tools, libraries, and settings\n",
       "\n",
       "## Container Process\n",
       "### Describe\n",
       "- Application\n",
       "\n",
       "### Build\n",
       "- Image description\n",
       "- Infrastructure as code: environment + application\n",
       "\n",
       "### Run\n",
       "- Container\n",
       "\n",
       "## Benefits of Containers\n",
       "- Environment consistency\n",
       "- Faster CI/CD\n",
       "- Portability\n",
       "- Simplified deployment\n",
       "- Microservices and scalability\n",
       "- Easy rollbacks and versioning\n",
       "- Dependency management\n",
       "- Security and isolation\n",
       "\n",
       "## Docker\n",
       "- Open platform for developing, shipping, and running apps\n",
       "- Separates applications from infrastructure for faster software delivery\n",
       "\n",
       "### Docker Platform\n",
       "- Packages and runs applications in isolated containers\n",
       "- Lightweight containers run many instances on a host securely\n",
       "- Containers include all dependencies, ensuring consistency across environments\n",
       "\n",
       "### Tooling and Lifecycle Management\n",
       "- Develop, test, and distribute applications as containers\n",
       "- Deploy applications in any environment: local, cloud, or hybrid\n",
       "\n",
       "## Dockerfile Example\n",
       "```dockerfile\n",
       "FROM openjdk:17-jdk-slim-buster\n",
       "WORKDIR /app\n",
       "COPY app/build/lib/* build/lib/\n",
       "COPY app/build/libs/app.jar build/\n",
       "WORKDIR /app/build\n",
       "ENTRYPOINT [ \"java\", \"-jar\", \"app.jar\" ]\n",
       "```\n",
       "\n",
       "## Terminal Commands\n",
       "- Build the image: `docker build -t jre-build-example .`\n",
       "- Run a container from the image: `docker run -p 8080:8080 jre-build-example`\n",
       "\n",
       "## Problems with Normal Dockerfiles\n",
       "- Final images often contain build tools, source files, and intermediate artifacts\n",
       "- Large image size\n",
       "- Security risks\n",
       "- Not production-ready\n",
       "\n",
       "## Benefits of Multi-Stage Builds\n",
       "- Smaller images\n",
       "- Improved security\n",
       "- Faster deployments\n",
       "- Cleaner and more maintainable\n",
       "\n",
       "## Multi-Stage Dockerfiles: Example\n",
       "```dockerfile\n",
       "# Stage 1: Build the application\n",
       "FROM gradle:8.14-jdk21 AS build\n",
       "WORKDIR /app\n",
       "COPY build.gradle settings.gradle ./\n",
       "COPY gradle ./gradle\n",
       "COPY src ./src\n",
       "RUN gradle bootJar --no-daemon\n",
       "# Stage 2: Run the application\n",
       "FROM gcr.io/distroless/java21-debian12\n",
       "WORKDIR /app\n",
       "COPY --from=build /app/build/libs/*.jar app.jar\n",
       "EXPOSE 8080\n",
       "ENTRYPOINT [\"java\", \"-jar\", \"app.jar\"]\n",
       "```\n",
       "\n",
       "## Helpful Docker Commands\n",
       "- `docker pull <image>`: downloads an image from a Docker registry\n",
       "- `docker build -t <name> <path>`: builds an image from a Dockerfile\n",
       "- `docker run <image>`: runs a container from an image\n",
       "- `docker ps`: lists all running containers\n",
       "- `docker stop <container>`: stops a running container\n",
       "- `docker rm <container>`: removes a container\n",
       "- `docker rmi <image>`: removes an image\n",
       "- `docker logs <container>`: shows the logs of a container\n",
       "- `docker exec -it <container> <command>`: runs a command inside a running container"
      ],
      "text/plain": [
       "<IPython.core.display.Markdown object>"
      ]
     },
     "metadata": {},
     "output_type": "display_data"
    }
   ],
   "source": [
    "display(Markdown(markdown_decoded))"
   ]
  }
 ],
 "metadata": {
  "kernelspec": {
   "display_name": "DevOps",
   "language": "python",
   "name": "python3"
  },
  "language_info": {
   "codemirror_mode": {
    "name": "ipython",
    "version": 3
   },
   "file_extension": ".py",
   "mimetype": "text/x-python",
   "name": "python",
   "nbconvert_exporter": "python",
   "pygments_lexer": "ipython3",
   "version": "3.13.3"
  }
 },
 "nbformat": 4,
 "nbformat_minor": 5
}
